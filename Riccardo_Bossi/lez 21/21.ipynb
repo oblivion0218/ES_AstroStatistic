{
 "cells": [
  {
   "cell_type": "markdown",
   "id": "0054f283",
   "metadata": {},
   "source": [
    "## Time to get your hands dirty. The Tensorflow playground.\n",
    "\n",
    "\n",
    "Today we'll play with the TensorFlow playground. We'll see it next time, but Tensorflow is one of the main open-source deep learning libraries.\n",
    "\n",
    "The playground provides some datasets and let you see what's going on during the training process in a nice, intuitive way. \n",
    "\n",
    "![Screen%20Shot%202022-02-13%20at%2019.28.05.png](attachment:Screen%20Shot%202022-02-13%20at%2019.28.05.png)\n",
    "\n",
    "- We have a function $f(x_1,x_2)$ that returns +1 (blue) or -1 (orange).\n",
    "- We are given a dataset and split it into training and testing. \n",
    "- Hit play, and the network starts training.\n",
    "- The thickness of the line tells you how much that synapis contributes to the training.\n",
    "- You can monitor progress on the top-right.\n",
    "- The goal of the game is to minimize the loss function **on the test set** (I don't care about the loss function on the training set!).\n",
    "- You can change everything but the type of problem, the test/train ratio, and the noise level.\n",
    "- So feel free to play with activation function, number of layers, number of neuron per layers, learning rate, regularization, incoming features (data augmentation), etc. \n",
    "\n",
    "\n",
    "1) Let's start from [this dataset](https://playground.tensorflow.org/#activation=linear&regularization=L2&batchSize=10&dataset=xor&regDataset=reg-plane&learningRate=0.01&regularizationRate=0&noise=35&networkShape=1&seed=0.50246&showTestData=false&discretize=false&percTrainData=50&x=true&y=true&xTimesY=false&xSquared=false&ySquared=false&cosX=false&sinX=false&cosY=false&sinY=false&collectStats=false&problem=classification&initZero=false&hideText=false). Try to get the lowest score on the test set. Take a screenshot or we won't believe you! Let's draw a leaderboard.\n",
    "\n",
    "2) Then move on to [this dataset](https://playground.tensorflow.org/#activation=relu&regularization=L2&batchSize=10&dataset=spiral&regDataset=reg-plane&learningRate=0.1&regularizationRate=0.01&noise=50&networkShape=3,2&seed=0.65406&showTestData=false&discretize=false&percTrainData=50&x=true&y=true&xTimesY=false&xSquared=false&ySquared=false&cosX=false&sinX=false&cosY=false&sinY=false&collectStats=false&problem=classification&initZero=false&hideText=false), which is more challenging. "
   ]
  }
 ],
 "metadata": {
  "language_info": {
   "name": "python"
  }
 },
 "nbformat": 4,
 "nbformat_minor": 5
}
