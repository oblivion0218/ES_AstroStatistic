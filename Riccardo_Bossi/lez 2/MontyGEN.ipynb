{
 "cells": [
  {
   "cell_type": "markdown",
   "id": "613e2f87",
   "metadata": {},
   "source": [
    "# Simulate the Monty Hall Problem\n",
    "- Simulate three doors, one car, and two goats.\n",
    "- Simulate three players: the switcher, the conservative, and the newcomer.\n",
    "- Record who wins.\n",
    "- Repeat it many times.\n",
    "- Which player do you want to be?\n",
    "\n",
    "Food for thought: And what if you had N doors to choose from and the presenter opens p<=N of them? Study how the probability of winning changes as a function of p and n \n",
    "."
   ]
  },
  {
   "cell_type": "code",
   "execution_count": 8,
   "id": "c79c4d24",
   "metadata": {},
   "outputs": [],
   "source": [
    "import numpy as np\n",
    "import random\n",
    "import matplotlib.pyplot as plt\n",
    "\n",
    "K = 10  # Max number of doors + m\n",
    "\n",
    "M = 1  # Number of doors opened by the host \n",
    "\n",
    "x_range = range(M+2, K + M +2)  # Range comune per tutti i grafici\n",
    "\n",
    "prob_change = []\n",
    "prob_no_change = []\n",
    "prob_mean_newcome = []\n",
    "formula_values = []  # Lista per i valori teorici\n",
    "\n",
    "n = 10000  # Number of iterations\n"
   ]
  },
  {
   "cell_type": "code",
   "execution_count": 9,
   "id": "02ebc932",
   "metadata": {},
   "outputs": [
    {
     "name": "stderr",
     "output_type": "stream",
     "text": [
      "Ciclo {N} (porte):   0%|          | 0/10 [00:00<?, ?it/s]"
     ]
    },
    {
     "name": "stderr",
     "output_type": "stream",
     "text": [
      "Ciclo {N} (porte):  10%|█         | 1/10 [00:00<00:02,  3.82it/s]"
     ]
    },
    {
     "name": "stdout",
     "output_type": "stream",
     "text": [
      "Probability of winning without switch --> 3 doors: 0.3388\n",
      "Probability of winning with switch --> 3 doors: 0.6596\n",
      "Probability of winning for the newcomer --> 3 doors: 0.5000 \n",
      "\n"
     ]
    },
    {
     "name": "stderr",
     "output_type": "stream",
     "text": [
      "Ciclo {N} (porte):  20%|██        | 2/10 [00:00<00:01,  4.17it/s]"
     ]
    },
    {
     "name": "stdout",
     "output_type": "stream",
     "text": [
      "Probability of winning without switch --> 4 doors: 0.2461\n",
      "Probability of winning with switch --> 4 doors: 0.3798\n",
      "Probability of winning for the newcomer --> 4 doors: 0.3333 \n",
      "\n"
     ]
    },
    {
     "name": "stderr",
     "output_type": "stream",
     "text": [
      "Ciclo {N} (porte):  30%|███       | 3/10 [00:00<00:01,  4.00it/s]"
     ]
    },
    {
     "name": "stdout",
     "output_type": "stream",
     "text": [
      "Probability of winning without switch --> 5 doors: 0.1948\n",
      "Probability of winning with switch --> 5 doors: 0.2643\n",
      "Probability of winning for the newcomer --> 5 doors: 0.2500 \n",
      "\n"
     ]
    },
    {
     "name": "stderr",
     "output_type": "stream",
     "text": [
      "Ciclo {N} (porte):  40%|████      | 4/10 [00:00<00:01,  4.46it/s]"
     ]
    },
    {
     "name": "stdout",
     "output_type": "stream",
     "text": [
      "Probability of winning without switch --> 6 doors: 0.1669\n",
      "Probability of winning with switch --> 6 doors: 0.2077\n",
      "Probability of winning for the newcomer --> 6 doors: 0.2000 \n",
      "\n"
     ]
    },
    {
     "name": "stderr",
     "output_type": "stream",
     "text": [
      "Ciclo {N} (porte):  50%|█████     | 5/10 [00:01<00:01,  4.64it/s]"
     ]
    },
    {
     "name": "stdout",
     "output_type": "stream",
     "text": [
      "Probability of winning without switch --> 7 doors: 0.1425\n",
      "Probability of winning with switch --> 7 doors: 0.1673\n",
      "Probability of winning for the newcomer --> 7 doors: 0.1667 \n",
      "\n"
     ]
    },
    {
     "name": "stderr",
     "output_type": "stream",
     "text": [
      "Ciclo {N} (porte):  60%|██████    | 6/10 [00:01<00:00,  4.52it/s]"
     ]
    },
    {
     "name": "stdout",
     "output_type": "stream",
     "text": [
      "Probability of winning without switch --> 8 doors: 0.1257\n",
      "Probability of winning with switch --> 8 doors: 0.1380\n",
      "Probability of winning for the newcomer --> 8 doors: 0.1429 \n",
      "\n"
     ]
    },
    {
     "name": "stderr",
     "output_type": "stream",
     "text": [
      "Ciclo {N} (porte):  70%|███████   | 7/10 [00:01<00:00,  4.74it/s]"
     ]
    },
    {
     "name": "stdout",
     "output_type": "stream",
     "text": [
      "Probability of winning without switch --> 9 doors: 0.1093\n",
      "Probability of winning with switch --> 9 doors: 0.1241\n",
      "Probability of winning for the newcomer --> 9 doors: 0.1250 \n",
      "\n"
     ]
    },
    {
     "name": "stderr",
     "output_type": "stream",
     "text": []
    },
    {
     "name": "stdout",
     "output_type": "stream",
     "text": [
      "Probability of winning without switch --> 10 doors: 0.1045\n",
      "Probability of winning with switch --> 10 doors: 0.1100\n",
      "Probability of winning for the newcomer --> 10 doors: 0.1111 \n",
      "\n"
     ]
    },
    {
     "name": "stderr",
     "output_type": "stream",
     "text": [
      "Ciclo {N} (porte):  90%|█████████ | 9/10 [00:01<00:00,  5.06it/s]"
     ]
    },
    {
     "name": "stdout",
     "output_type": "stream",
     "text": [
      "Probability of winning without switch --> 11 doors: 0.0986\n",
      "Probability of winning with switch --> 11 doors: 0.1002\n",
      "Probability of winning for the newcomer --> 11 doors: 0.1000 \n",
      "\n"
     ]
    },
    {
     "name": "stderr",
     "output_type": "stream",
     "text": [
      "Ciclo {N} (porte): 100%|██████████| 10/10 [00:02<00:00,  4.70it/s]"
     ]
    },
    {
     "name": "stdout",
     "output_type": "stream",
     "text": [
      "Probability of winning without switch --> 12 doors: 0.0828\n",
      "Probability of winning with switch --> 12 doors: 0.0856\n",
      "Probability of winning for the newcomer --> 12 doors: 0.0909 \n",
      "\n"
     ]
    },
    {
     "name": "stderr",
     "output_type": "stream",
     "text": [
      "\n"
     ]
    }
   ],
   "source": [
    "from tqdm import tqdm\n",
    "\n",
    "for N in tqdm(x_range, desc=\"Ciclo {N} (porte)\"):  # N = number of doors in each cycle\n",
    "\n",
    "    win_switch = 0  # Wins when switching doors\n",
    "    win_no_switch = 0  # Wins without switching doors\n",
    "    loss_switch = 0  # Losses when switching doors\n",
    "    loss_no_switch = 0  # Losses without switching doors\n",
    "\n",
    "    prob_newcome = []  # Probabilities for the newcomer\n",
    "\n",
    "    for i in tqdm(range(n), desc=f\"Simulazioni per N={N}\", leave=False):\n",
    "        doors = np.zeros(N)  # Initial array of goats\n",
    "        position = random.randint(0, N - 1)  # Position of the prize\n",
    "        scelta = random.randint(0, N - 1)  # The door initially chosen by the player\n",
    "        doors[position] = 1  # Put the prize back behind one of the doors\n",
    "\n",
    "        s = 0  # Number of cells deleted before the chosen door\n",
    "        p = 0  # Number of cells deleted before the position\n",
    "\n",
    "        prob_newcome.append(1 / (N - M))  # Probability for the newcomer\n",
    "\n",
    "        pos_to_del = set()  # Set of open doors\n",
    "\n",
    "        while len(pos_to_del) < M:\n",
    "            PosM = random.randint(0, N - 1)\n",
    "            if doors[PosM] != 1 and PosM != scelta:\n",
    "                pos_to_del.add(PosM)\n",
    "\n",
    "        pos_to_del = sorted(pos_to_del)  # Sorting the array\n",
    "\n",
    "        # Calculate corrections for s and p\n",
    "        s = sum(1 for pos in pos_to_del if pos < scelta)\n",
    "        p = sum(1 for pos in pos_to_del if pos < position)\n",
    "\n",
    "        doors = np.delete(doors, list(pos_to_del))  # Opening of the doors\n",
    "\n",
    "        position = position - p  # Correction for position and scelta\n",
    "        scelta = scelta - s\n",
    "\n",
    "        change = random.randint(0, 1)  # 0 = doesn't switch, 1 = switches\n",
    "\n",
    "        # Player doesn't switch\n",
    "        if scelta == position and change == 0:\n",
    "            win_no_switch += 1\n",
    "        elif scelta != position and change == 0:\n",
    "            loss_no_switch += 1\n",
    "\n",
    "        # Player switches\n",
    "        if scelta == position and change == 1:\n",
    "            loss_switch += 1\n",
    "        elif scelta != position and change == 1:\n",
    "            while True:\n",
    "                a = random.randint(0, len(doors) - 1)  # Doors where the player can change\n",
    "                if a != scelta:  # Can't choose the previous door\n",
    "                    break\n",
    "            if position == a:\n",
    "                win_switch += 1\n",
    "            else:\n",
    "                loss_switch += 1\n",
    "\n",
    "    prob_no_switch = win_no_switch / (win_no_switch + loss_no_switch)\n",
    "    prob_switch = win_switch / (win_switch + loss_switch)\n",
    "\n",
    "    print(f\"Probability of winning without switch --> {N} doors: {prob_no_switch:.4f}\")\n",
    "    print(f\"Probability of winning with switch --> {N} doors: {prob_switch:.4f}\")\n",
    "    print(f\"Probability of winning for the newcomer --> {N} doors: {np.mean(prob_newcome):.4f} \\n\")\n",
    "\n",
    "    prob_no_change.append(prob_no_switch)\n",
    "    prob_change.append(prob_switch)\n",
    "    prob_mean_newcome.append(np.mean(prob_newcome))\n",
    "\n",
    "    # Formula for the theoretical probability based on N and M\n",
    "    formula_values.append((1 / N) * (N - 1) / (N - 1 - M))  # Theoretical formula\n",
    "\n"
   ]
  },
  {
   "cell_type": "code",
   "execution_count": 10,
   "id": "67bef05b",
   "metadata": {},
   "outputs": [
    {
     "data": {
      "image/png": "[encoded data removed]",
      "text/plain": [
       "<Figure size 1500x500 with 3 Axes>"
      ]
     },
     "metadata": {},
     "output_type": "display_data"
    }
   ],
   "source": [
    "# Generating histograms\n",
    "plt.figure(figsize=(15, 5))\n",
    "\n",
    "# First histogram: Probability without change\n",
    "plt.subplot(1, 3, 1)\n",
    "plt.bar(x_range, prob_no_change, color='blue', alpha=0.7)\n",
    "plt.title('Probabilità di vincita senza cambio')\n",
    "plt.xlabel('Numero di porte (K)')\n",
    "plt.ylabel('Probabilità')\n",
    "plt.xticks(x_range)\n",
    "\n",
    "# Second histogram: Probability with change\n",
    "plt.subplot(1, 3, 2)\n",
    "plt.bar(x_range, prob_change, color='green', alpha=0.7)\n",
    "plt.title('Probabilità di vincita con cambio')\n",
    "plt.xlabel('Numero di porte (K)')\n",
    "plt.ylabel('Probabilità')\n",
    "plt.xticks(x_range)\n",
    "\n",
    "# Add theoretical points to the second histogram\n",
    "plt.plot(x_range, formula_values, 'o', color='red', label='Valori da formula')\n",
    "\n",
    "# Third histogram: Probability for the newcomer\n",
    "plt.subplot(1, 3, 3)\n",
    "plt.bar(x_range, prob_mean_newcome, color='red', alpha=0.7)\n",
    "plt.title('Probabilità di vincita nuovo arrivato')\n",
    "plt.xlabel('Numero di porte (K)')\n",
    "plt.ylabel('Probabilità')\n",
    "plt.xticks(x_range)\n",
    "\n",
    "# Show the histograms\n",
    "plt.tight_layout()\n",
    "plt.show()\n"
   ]
  }
 ],
 "metadata": {
  "kernelspec": {
   "display_name": "myenv",
   "language": "python",
   "name": "python3"
  },
  "language_info": {
   "codemirror_mode": {
    "name": "ipython",
    "version": 3
   },
   "file_extension": ".py",
   "mimetype": "text/x-python",
   "name": "python",
   "nbconvert_exporter": "python",
   "pygments_lexer": "ipython3",
   "version": "3.12.3"
  }
 },
 "nbformat": 4,
 "nbformat_minor": 5
}
