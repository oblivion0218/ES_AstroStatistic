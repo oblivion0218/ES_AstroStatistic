{
 "cells": [
  {
   "cell_type": "markdown",
   "id": "959e189a",
   "metadata": {},
   "source": [
    "## Time to get your hands dirty. Your first neural network; pick your favourite.\n",
    "\n",
    "\n",
    "For the last coding assignment, you'll need to implement a neural network. We'll look at a relatively simple binary classification problem. Here below are three options; completing one of them for the exam is enough\n",
    "\n",
    "### Tasks:\n",
    "\n",
    "1. Remember: scale your data appropriately\n",
    "\n",
    "2. Decide on a testing strategy (a simple test/train split? a CV strategy? set a test set aside to be looked at at the very end?)\n",
    "\n",
    "2. Decide your optimization metric.\n",
    "\n",
    "3. Write down your network architecture. You can start from a fully connected, multi-layer perceptron (and then explore)\n",
    "\n",
    "4. Use one the package among those we've seen. These include Tensorflow via keras, pytorch, and the MPL classifier implemented in scikit-learn. This is an opportunity to pick the one you're most interested in learning. \n",
    "\n",
    "5. Optimize the hyperparameters of your network. Explore different hyperparameters and see what fits the data best.  Do your best now to optimize the network architecture. Be creative!\n",
    "\n",
    "6. Report on the perfomance of the network on the test set; report other metrics that have not been optimized.\n",
    "\n",
    "\n",
    "### A few tips:\n",
    "\n",
    "- In scikit-learn, remember that you can utilize all availables cores on your machine with `n_jobs=-1`. Print out the classification score for the training data, and the best parameters obtained by the cross validation.\n",
    "- If it takes too long, run the hyperparameter optimization on a subset of the training set. Then retrain the full network using the best hyperparameters only.\n",
    "- On cross validation, for scikit learn we've seen how to use `GridSearchCV` already. For Tensorflow, there's a really cool tool called [Tensorboard](https://www.tensorflow.org/tensorboard)\n",
    "\n",
    "### Datasets:\n",
    "\n",
    "You can choose one of these three problems:\n",
    "\n",
    "- **1. Galaxies vs quasars (but with neural networks)** Go back to our SDSS data we've used in Lecture 19. We had color differences, and the task was to classifty quasars vs galaxies. Repeat that task with a neural network.\n",
    "\n",
    "- **2. Can a computer learn if we're going to detect gravitational waves? (but with neural networks)** Go back to the SNR classifier for gravitational wave events, same data we've used in Lecture. We had properties of black hole binaries, and the task was to classify. Repeat that task with a neural network.\n",
    "\n",
    "- **3. The HiggsML challenge** Branching out of astrophysics, let's mess around with a dataset of simulated but  realistic events from the ATLAS particle detector at CERN.\n",
    "    - Data are at `solutions/higgs.tar.gz` (you need to uncompress with `tar -czvf`)\n",
    "    - There are $N_{\\rm samples} = 2.5\\times 10^5$ entries with $N_{\\rm features}=30$ features each. \n",
    "    - The taks is that of classifying these features against a set of labels, which are either `s` (source) or `b` (background).\n",
    "    - For some info on both the physics and the dataset see [this document](https://higgsml.lal.in2p3.fr/files/2014/04/documentation_v1.8.pdf); includes a description of the features and how data have been padded (-999) for missing values.\n",
    "    - This dataset was part of a challenge that run on Kaggle in 2014: https://higgsml.ijclab.in2p3.fr/ \n",
    "\n",
    "\n",
    "\n",
    "#### (On dataset 2, this is the best I could do...)\n",
    "\n",
    "Together with Alberto Vecchio and Geraint Prattent, I tackled this gravitational-wave classification problem using neural networks in this paper: [arXiv:2007.06585](https://arxiv.org/abs/2007.06585). \n",
    "- In the paper we reached an accuracy (true positive + true negative / total) of $98.4\\%$. The data you're using are those of the green curve in Fig 2 of that paper. Could you do better? If yes, please tell me how! \n",
    "- I should have really put a figure with my ROC in that paper but I didn't!"
   ]
  }
 ],
 "metadata": {
  "language_info": {
   "name": "python"
  }
 },
 "nbformat": 4,
 "nbformat_minor": 5
}
