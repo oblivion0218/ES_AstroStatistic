{
 "cells": [
  {
   "cell_type": "code",
   "execution_count": null,
   "id": "32164d4f",
   "metadata": {},
   "outputs": [
    {
     "name": "stdout",
     "output_type": "stream",
     "text": [
      "Chiavi nel file:\n",
      "['chi1x', 'chi1y', 'chi1z', 'chi2x', 'chi2y', 'chi2z', 'dec', 'det', 'iota', 'mtot', 'psi', 'q', 'ra', 'snr', 'z']\n"
     ]
    },
    {
     "ename": "",
     "evalue": "",
     "output_type": "error",
     "traceback": [
      "\u001b[1;31mThe Kernel crashed while executing code in the current cell or a previous cell. \n",
      "\u001b[1;31mPlease review the code in the cell(s) to identify a possible cause of the failure. \n",
      "\u001b[1;31mClick <a href='https://aka.ms/vscodeJupyterKernelCrash'>here</a> for more info. \n",
      "\u001b[1;31mView Jupyter <a href='command:jupyter.viewOutput'>log</a> for further details."
     ]
    }
   ],
   "source": [
    "import h5py\n",
    "\n",
    "# Apri il file in modalità lettura\n",
    "with h5py.File('dati_ligo.h5', 'r') as file:\n",
    "    # Lista dei dataset/chiavi principali\n",
    "    print(\"Chiavi nel file:\")\n",
    "    print(list(file.keys()))"
   ]
  },
  {
   "cell_type": "code",
   "execution_count": null,
   "id": "cc056a32",
   "metadata": {},
   "outputs": [
    {
     "name": "stderr",
     "output_type": "stream",
     "text": [
      "Caricamento dati: 100%|██████████| 15/15 [01:32<00:00,  6.16s/it]\n"
     ]
    }
   ],
   "source": [
    "import numpy as np\n",
    "from sklearn.decomposition import PCA\n",
    "import matplotlib.pyplot as plt\n",
    "from tqdm import tqdm\n",
    "\n",
    "with h5py.File('dati_ligo.h5', 'r') as file:\n",
    "    keys = ['chi1x', 'chi1y', 'chi1z', 'chi2x', 'chi2y', 'chi2z', 'dec', 'det', 'iota',\n",
    "            'mtot', 'psi', 'q', 'ra', 'snr', 'z']\n",
    "    \n",
    "    data_list = []\n",
    "    for key in tqdm(keys, desc=\"Caricamento dati\"):\n",
    "        data_list.append(file[key][:])\n",
    "        \n",
    "    data = np.stack(data_list, axis=1)\n",
    "\n",
    "#puizia dati\n",
    "initial_shape = data.shape\n",
    "mask_valid = ~np.isnan(data).any(axis=1) & ~(data == -999).any(axis=1)\n",
    "clean_data = data[mask_valid]\n",
    "final_shape = clean_data.shape\n",
    "\n",
    "print(f\"\\nRighe totali prima della pulizia: {initial_shape[0]}\")\n",
    "print(f\"Righe rimosse: {initial_shape[0] - final_shape[0]}\")\n",
    "print(f\"Righe rimanenti: {final_shape[0]}\")\n",
    "\n",
    "#pca\n",
    "pca = PCA(n_components=2)\n",
    "X_pca = pca.fit_transform(data)\n",
    "\n",
    "#plotting\n",
    "plt.figure(figsize=(8, 6))\n",
    "plt.scatter(X_pca[:, 0], X_pca[:, 1], s=10, alpha=0.7)\n",
    "plt.xlabel(\"PC1\")\n",
    "plt.ylabel(\"PC2\")\n",
    "plt.title(\"PCA delle caratteristiche\")\n",
    "plt.grid(True)\n",
    "plt.show()"
   ]
  }
 ],
 "metadata": {
  "kernelspec": {
   "display_name": "myenv",
   "language": "python",
   "name": "python3"
  },
  "language_info": {
   "codemirror_mode": {
    "name": "ipython",
    "version": 3
   },
   "file_extension": ".py",
   "mimetype": "text/x-python",
   "name": "python",
   "nbconvert_exporter": "python",
   "pygments_lexer": "ipython3",
   "version": "3.12.3"
  }
 },
 "nbformat": 4,
 "nbformat_minor": 5
}
