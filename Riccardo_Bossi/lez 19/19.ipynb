{
 "cells": [
  {
   "cell_type": "markdown",
   "id": "85d0a93f",
   "metadata": {},
   "source": [
    "### Time to get your hands dirty. SDSS Galaxies vs quasars\n",
    "\n",
    "We're now going to classify galaxy vs quasars in the Sloan Digital Sky Survey. \n",
    "\n",
    "This is one of the most famous example of machine-learning classification in astronomy. For some recent work see e.g. \n",
    "- *Identifying galaxies, quasars, and stars with machine learning: A new catalogue of classifications for 111 million SDSS sources without spectra* Clarke et al (2019) [arXiv:1909.10963](https://arxiv.org/abs/1909.10963)\n",
    "- *Quasar and galaxy classification in Gaia Data Release 2* Bailer-Jones et al (2019) [arXiv:1910.05255](https://arxiv.org/abs/1910.05255)\n",
    "\n",
    "Some figures from the second paper:"
   ]
  },
  {
   "cell_type": "markdown",
   "id": "aba24027",
   "metadata": {},
   "source": [
    "#### Data\n",
    "\n",
    "The dataset is at `solutions/galaxyquasar.csv`. I have extracted it myself from the SDSS database using the SQL query reported [here](https://www.astroml.org/_modules/astroML/datasets/sdss_galaxy_colors.html#fetch_sdss_galaxy_colors)\n",
    "\n",
    "(If you've never used [SQL](https://en.wikipedia.org/wiki/SQL) and want to learn something new in computing, it's very powerful)\n",
    "\n",
    "#### Tasks\n",
    "\n",
    "- Create arrays for the $(u-g)$, $(g-r)$, $(r-i)$, and $(i-z)$ colors. Also create an array with the class labels where galaxy=$0$ and quasar=$1$. \n",
    "- Classify the dataset against the target label.\n",
    "- Try some of the classification methods we've seen so far and evaluate the performance using the ROC curve.\n",
    "- Remember to split the dataset into training and validation...\n",
    "\n",
    "#### Ideas\n",
    "- Try using different colors (a subset of them first, than all together). Which is the most important feature?\n",
    "- What are the colors that better satisfy or invalidate the \"Naive\" assumption of independence between the attributes?"
   ]
  }
 ],
 "metadata": {
  "language_info": {
   "name": "python"
  }
 },
 "nbformat": 4,
 "nbformat_minor": 5
}
