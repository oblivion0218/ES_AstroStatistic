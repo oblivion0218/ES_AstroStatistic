{
 "cells": [
  {
   "cell_type": "code",
   "execution_count": 2,
   "id": "ddf12dde",
   "metadata": {},
   "outputs": [
    {
     "name": "stderr",
     "output_type": "stream",
     "text": [
      "/tmp/ipykernel_1974/1317417187.py:10: UserWarning: Input line 1 contained no data and will not be counted towards `max_rows=50000`.  This differs from the behaviour in NumPy <=1.22 which counted lines rather than rows.  If desired, the previous behaviour can be achieved by using `itertools.islice`.\n",
      "Please see the 1.23 release notes for an example on how to do this.  If you wish to ignore this warning, use `warnings.filterwarnings`.  This warning is expected to be removed in the future and is given only once per `loadtxt` call.\n",
      "  data = np.loadtxt(\"Summary_table.txt\", dtype='str',unpack='True')\n"
     ]
    },
    {
     "name": "stdout",
     "output_type": "stream",
     "text": [
      "['GRB_name' 'GRB_name_Fermi' 'T0' 'ra' 'decl' 'pos_error' 'T90'\n",
      " 'T90_error' 'T90_start' 'fluence' 'fluence_error' 'redshift' \"'T100'\"\n",
      " 'GBM_located' 'mjd_(T0)']\n"
     ]
    }
   ],
   "source": [
    "import requests\n",
    "import numpy as np\n",
    "\n",
    "# Download file\n",
    "r = requests.get('https://user-web.icecube.wisc.edu/~grbweb_public/Summary_table.txt')\n",
    "with open(\"Summary_table.txt\", 'wb') as f:\n",
    "    f.write(r.content)\n",
    "\n",
    "# Read content\n",
    "data = np.loadtxt(\"Summary_table.txt\", dtype='str',unpack='True')\n",
    "\n",
    "# Read headers\n",
    "with open(\"Summary_table.txt\",'r') as f:\n",
    "    names= np.array([n.strip().replace(\" \",\"_\") for n in f.readlines()[1].replace(\"#\",\"\").replace(\"\\n\",\"\").lstrip().split('    ') if n.strip()!=''])\n",
    "\n",
    "print (names)"
   ]
  },
  {
   "cell_type": "code",
   "execution_count": null,
   "id": "7bdb11f4",
   "metadata": {},
   "outputs": [
    {
     "name": "stdout",
     "output_type": "stream",
     "text": [
      "Shape: (8721, 4)\n",
      "Prima riga: [-999. -999. -999. -999.]\n",
      "Prima riga: [1.0240e+01 9.2300e-01 2.5096e-06 3.0285e-08]\n",
      "Prima riga: [-999. -999. -999. -999.]\n",
      "Prima riga: [-999. -999. -999. -999.]\n",
      "Prima riga: [2.2784e+01 1.0560e+00 3.8016e-05 6.7097e-08]\n",
      "Prima riga: [1.1008e+01 1.1450e+00 1.1293e-06 2.2733e-08]\n",
      "Prima riga: [2.68805e+02 1.71700e+00 1.77340e-05 6.30950e-08]\n",
      "Prima riga: [6.2720e+00 1.4300e-01 4.5797e-05 1.7873e-08]\n",
      "Prima riga: [6.0672e+01 2.1870e+00 2.0956e-06 3.0084e-08]\n",
      "Prima riga: [-999. -999. -999. -999.]\n"
     ]
    }
   ],
   "source": [
    "# Trova indice della colonna\n",
    "idx_time = np.where(names == 'T90')[0][0]\n",
    "idx_err_time = np.where(names == 'T90_error')[0][0]\n",
    "idx_fluence = np.where(names == 'fluence')[0][0]\n",
    "idx_err_fluence = np.where(names == 'fluence_error')[0][0]\n",
    "\n",
    "# Estrai colonne\n",
    "time = data[idx_time].astype(float)\n",
    "err_time = data[idx_err_time].astype(float)\n",
    "fluence = data[idx_fluence].astype(float)\n",
    "err_fluence = data[idx_err_fluence].astype(float)\n",
    "\n",
    "# Costruisci dataset (una riga per evento, 4 colonne)\n",
    "new_dataset = np.column_stack((time, err_time, fluence, err_fluence))\n",
    "\n",
    "print(\"Shape:\", new_dataset.shape)\n",
    "for i in range(10):\n",
    "    print(new_dataset[i])\n"
   ]
  },
  {
   "cell_type": "code",
   "execution_count": null,
   "id": "e6f92ddd",
   "metadata": {},
   "outputs": [
    {
     "name": "stdout",
     "output_type": "stream",
     "text": [
      "Prima riga: [1.0240e+01 9.2300e-01 2.5096e-06 3.0285e-08]\n",
      "Prima riga: [2.2784e+01 1.0560e+00 3.8016e-05 6.7097e-08]\n",
      "Prima riga: [1.1008e+01 1.1450e+00 1.1293e-06 2.2733e-08]\n",
      "Prima riga: [2.68805e+02 1.71700e+00 1.77340e-05 6.30950e-08]\n",
      "Prima riga: [6.2720e+00 1.4300e-01 4.5797e-05 1.7873e-08]\n",
      "Prima riga: [6.0672e+01 2.1870e+00 2.0956e-06 3.0084e-08]\n",
      "Prima riga: [2.0992e+01 1.1450e+00 5.9394e-06 5.2193e-08]\n",
      "Prima riga: [9.1394e+01 7.2400e-01 3.4568e-05 3.5691e-08]\n",
      "Prima riga: [1.6384e+01 1.2800e+00 2.8774e-06 2.0687e-08]\n",
      "Prima riga: [4.4288e+01 1.8640e+00 3.6439e-06 2.4630e-08]\n"
     ]
    }
   ],
   "source": [
    "mask = np.all((new_dataset > -990) & (~np.isnan(new_dataset)), axis=1)\n",
    "clean_dataset = new_dataset[mask]\n",
    "\n",
    "for i in range(10):\n",
    "    print(clean_dataset[i])"
   ]
  }
 ],
 "metadata": {
  "kernelspec": {
   "display_name": "myenv",
   "language": "python",
   "name": "python3"
  },
  "language_info": {
   "codemirror_mode": {
    "name": "ipython",
    "version": 3
   },
   "file_extension": ".py",
   "mimetype": "text/x-python",
   "name": "python",
   "nbconvert_exporter": "python",
   "pygments_lexer": "ipython3",
   "version": "3.12.3"
  }
 },
 "nbformat": 4,
 "nbformat_minor": 5
}
